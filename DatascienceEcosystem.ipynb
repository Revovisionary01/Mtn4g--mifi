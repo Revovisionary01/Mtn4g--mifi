{
 "cells": [
  {
   "cell_type": "markdown",
   "id": "23453f06-b26a-4781-8f58-c3bbfc300b58",
   "metadata": {},
   "source": [
    "# Data Science Tools and Ecosystem"
   ]
  },
  {
   "cell_type": "markdown",
   "id": "c52721c3-94b7-4301-b22b-bb8f6c8b21c9",
   "metadata": {},
   "source": [
    "**Objectives:**\n",
    "- Python\n",
    "- R\n",
    "- SQL\n",
    "- Scala\n",
    "- Java\n",
    "- C++\n",
    "- Julia\n",
    "\n"
   ]
  },
  {
   "cell_type": "markdown",
   "id": "b0a5439b-4905-437a-b71c-0efca97cb457",
   "metadata": {},
   "source": [
    "In this notebook, Data Science Tools and Ecosystem are summarized"
   ]
  },
  {
   "cell_type": "markdown",
   "id": "22049839-5094-4844-b05c-3bfd7aff3234",
   "metadata": {},
   "source": [
    "Some of the popular languages that Data Scientists use are:\n",
    "1. Python\n",
    "2. R\n",
    "3. SQL"
   ]
  },
  {
   "cell_type": "markdown",
   "id": "c61acf2b-d5da-42fe-ad42-7a6144f877f9",
   "metadata": {},
   "source": [
    "Some of the commonly used libraries used by Data Scientists include:\n",
    "1. Pandas\n",
    "2. Numpy\n",
    "3. Matplotib\n",
    "4. Seaborn"
   ]
  },
  {
   "cell_type": "markdown",
   "id": "b5afc42c-b83c-4b18-83ff-4c26976a6568",
   "metadata": {},
   "source": [
    "| Data Science Tools |\n",
    "| ---- |\n",
    "| MySQL|\n",
    "|PostgreSQL|\n",
    "| NoSQL|\n"
   ]
  },
  {
   "cell_type": "markdown",
   "id": "2b47a4e4-19ef-496b-a828-f1fe369233ad",
   "metadata": {},
   "source": [
    "### Below are a few examples of evaluating arithmetic expressions in Python"
   ]
  },
  {
   "cell_type": "code",
   "execution_count": 5,
   "id": "362d058e-84d4-4cf2-9bf2-d7fbb4523105",
   "metadata": {},
   "outputs": [
    {
     "data": {
      "text/plain": [
       "17"
      ]
     },
     "execution_count": 5,
     "metadata": {},
     "output_type": "execute_result"
    }
   ],
   "source": [
    "# This a simple arithmetic expression to mutiply then add integers\n",
    "(3*4)+5"
   ]
  },
  {
   "cell_type": "code",
   "execution_count": 6,
   "id": "1fa15151-92de-4166-85ca-a92f65f2d77a",
   "metadata": {},
   "outputs": [
    {
     "data": {
      "text/plain": [
       "3.3333333333333335"
      ]
     },
     "execution_count": 6,
     "metadata": {},
     "output_type": "execute_result"
    }
   ],
   "source": [
    "# This will convert 200 minutes to hours by diving by 60\n",
    "200/60"
   ]
  },
  {
   "cell_type": "markdown",
   "id": "06dbfc7f-4db3-4c12-88a9-271e0e009cf5",
   "metadata": {},
   "source": [
    "## Author\n",
    "Emmanuel Oladapo"
   ]
  },
  {
   "cell_type": "code",
   "execution_count": null,
   "id": "e4d7f7fb-6cc4-453f-9763-091ff68b40e3",
   "metadata": {},
   "outputs": [],
   "source": []
  }
 ],
 "metadata": {
  "kernelspec": {
   "display_name": "Python 3 (ipykernel)",
   "language": "python",
   "name": "python3"
  },
  "language_info": {
   "codemirror_mode": {
    "name": "ipython",
    "version": 3
   },
   "file_extension": ".py",
   "mimetype": "text/x-python",
   "name": "python",
   "nbconvert_exporter": "python",
   "pygments_lexer": "ipython3",
   "version": "3.11.9"
  }
 },
 "nbformat": 4,
 "nbformat_minor": 5
}
